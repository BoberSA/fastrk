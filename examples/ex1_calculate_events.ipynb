{
 "cells": [
  {
   "cell_type": "markdown",
   "metadata": {
    "collapsed": true,
    "pycharm": {
     "name": "#%% md\n"
    }
   },
   "source": [
    "# Calculate events in Circular Restricted Three Body Problem"
   ]
  },
  {
   "cell_type": "code",
   "execution_count": 1,
   "outputs": [],
   "source": [
    "import numpy as np\n",
    "import pandas as pd\n",
    "import matplotlib.pyplot as plt\n",
    "from scipy.integrate import solve_ivp\n",
    "from fastrk import BT8713M, RKCodeGen, EventsCodeGen\n",
    "from model_crtbp import crtbp\n",
    "from timeit import timeit\n",
    "from numba import njit\n",
    "import orbipy as op"
   ],
   "metadata": {
    "collapsed": false,
    "pycharm": {
     "name": "#%%\n"
    }
   }
  },
  {
   "cell_type": "code",
   "execution_count": 2,
   "outputs": [],
   "source": [
    "# Orbipy uses scipy.integrate.ode\n",
    "model = op.crtbp3_model()\n",
    "\n",
    "# Events\n",
    "\n",
    "ev_y = op.eventY(0., terminal=False)\n",
    "ev_z = op.eventZ(0., terminal=False)\n",
    "ev_vx = op.eventVX(0., terminal=False)\n",
    "ev_vy = op.eventVY(0., terminal=False)\n",
    "ev_vz = op.eventVZ(0., terminal=False)\n",
    "\n",
    "events = [ev_y, ev_z, ev_vx, ev_vy, ev_vz]"
   ],
   "metadata": {
    "collapsed": false,
    "pycharm": {
     "name": "#%%\n"
    }
   }
  },
  {
   "cell_type": "code",
   "execution_count": 3,
   "outputs": [],
   "source": [
    "# generate code and import rk_prop function\n",
    "# new module rk_bt8713m.py will be created (at first call) or loaded\n",
    "# CRTBP is autonomous system i.e. equations doesn't have explicit time dependency\n",
    "\n",
    "rk_module = RKCodeGen(BT8713M, autonomous=True).save_and_import()\n",
    "rk_prop = rk_module.rk_prop\n",
    "rk_prop_ev = rk_module.rk_prop_ev\n",
    "\n",
    "# after first run code above can be replaced by\n",
    "# from rk_8713M import rk_prop, rk_prop_ev\n"
   ],
   "metadata": {
    "collapsed": false,
    "pycharm": {
     "name": "#%%\n"
    }
   }
  },
  {
   "cell_type": "code",
   "execution_count": 4,
   "outputs": [],
   "source": [
    "# generate code and import call_event function;\n",
    "# new module __evcache__/ev_<hash>.py will be created (at first call) or loaded;\n",
    "# call_event(t, s, values, idx) function calls specific event function by its index in events list\n",
    "\n",
    "call_event = EventsCodeGen(events).save_and_import()"
   ],
   "metadata": {
    "collapsed": false,
    "pycharm": {
     "name": "#%%\n"
    }
   }
  },
  {
   "cell_type": "code",
   "execution_count": 5,
   "outputs": [],
   "source": [
    "# Let's define Cauchy's problem:\n",
    "# initial time and state for halo orbit\n",
    "\n",
    "t0 = 0.\n",
    "t1 = 3*np.pi\n",
    "s0 = np.zeros(6)\n",
    "s0[[0, 2, 4]] = 9.949942666080747733e-01, 4.732924802139452415e-03, -1.973768492871211949e-02\n",
    "mc = np.array([3.001348389698916e-06])"
   ],
   "metadata": {
    "collapsed": false,
    "pycharm": {
     "name": "#%%\n"
    }
   }
  },
  {
   "cell_type": "code",
   "execution_count": 6,
   "outputs": [],
   "source": [
    "# integration parameters, same as in Orbipy\n",
    "params = {'max_step': np.inf,\n",
    "          'rtol': 1e-12,\n",
    "          'atol': 1e-12,\n",
    "          }"
   ],
   "metadata": {
    "collapsed": false,
    "pycharm": {
     "name": "#%%\n"
    }
   }
  },
  {
   "cell_type": "code",
   "execution_count": 7,
   "outputs": [],
   "source": [
    "# event detector object\n",
    "dtr = op.event_detector(model, events)\n",
    "\n",
    "df, evdf = dtr.prop(s0, t0, t1)"
   ],
   "metadata": {
    "collapsed": false,
    "pycharm": {
     "name": "#%%\n"
    }
   }
  },
  {
   "cell_type": "code",
   "execution_count": 8,
   "outputs": [],
   "source": [
    "values = np.array([e.value for e in events])\n",
    "terminals = np.array([e.terminal for e in events])\n",
    "directions = np.array([e.direction for e in events])\n",
    "counts = np.array([e.count for e in events])\n",
    "accurates = np.array([e.accurate for e in events])\n",
    "\n",
    "trj, evarr = rk_prop_ev(crtbp, s0, 0, t1, *params.values(),\n",
    "                        values, terminals, directions, counts, accurates,\n",
    "                        call_event, 1e-12, 1e-12, 100, mc)"
   ],
   "metadata": {
    "collapsed": false,
    "pycharm": {
     "name": "#%%\n"
    }
   }
  },
  {
   "cell_type": "code",
   "execution_count": 9,
   "outputs": [],
   "source": [
    "evdf1 = pd.DataFrame(evarr, columns=['e', 'cnt', 't', 'x', 'y', 'z', 'vx', 'vy', 'vz'])"
   ],
   "metadata": {
    "collapsed": false,
    "pycharm": {
     "name": "#%%\n"
    }
   }
  },
  {
   "cell_type": "code",
   "execution_count": 10,
   "outputs": [
    {
     "data": {
      "text/plain": "0    -4.922285e-12\n1     4.164447e-12\n2     7.951861e-12\n3     3.029155e-11\n4     4.951595e-13\n5     5.851453e-11\n6     1.755840e-11\n7     1.680007e-10\n8    -6.343224e-10\n9     1.618141e-10\n10    4.295067e-10\n11    1.630771e-10\n12   -7.911112e-10\n13    6.959928e-09\n14    2.087988e-09\n15    1.687998e-08\n16    8.396579e-09\n17    5.646641e-08\n18   -2.277712e-07\n19    5.820032e-08\n20    1.568987e-07\n21    5.598841e-08\n22   -2.966316e-07\n23    2.560417e-06\n24    7.688840e-07\n25    6.216301e-06\n26    3.096731e-06\n27    2.080954e-05\n28   -8.392425e-05\n29    2.144755e-05\nName: t, dtype: float64"
     },
     "execution_count": 10,
     "metadata": {},
     "output_type": "execute_result"
    }
   ],
   "source": [
    "# check event times\n",
    "evdf.t - evdf1.t"
   ],
   "metadata": {
    "collapsed": false,
    "pycharm": {
     "name": "#%%\n"
    }
   }
  },
  {
   "cell_type": "code",
   "execution_count": 11,
   "outputs": [
    {
     "data": {
      "text/plain": "2     2.089539e-17\n7    -1.923244e-18\n12   -3.282024e-16\n17   -1.551711e-13\n22    1.787718e-16\n27   -2.841581e-13\nName: y, dtype: float64"
     },
     "execution_count": 11,
     "metadata": {},
     "output_type": "execute_result"
    }
   ],
   "source": [
    "evdf[evdf.e == 0].y - evdf1[evdf1.e == 0].y"
   ],
   "metadata": {
    "collapsed": false,
    "pycharm": {
     "name": "#%%\n"
    }
   }
  },
  {
   "cell_type": "code",
   "execution_count": 12,
   "outputs": [
    {
     "data": {
      "text/plain": "<Figure size 1080x360 with 3 Axes>",
      "image/png": "[encoded data removed]"
     },
     "metadata": {
      "needs_background": "light"
     },
     "output_type": "display_data"
    }
   ],
   "source": [
    "pltr = op.plotter.from_model(model)\n",
    "\n",
    "ax = pltr.plot_proj(evdf, color='b', ls='', marker='+', ms=10)\n",
    "pltr.plot_proj(evdf1, color='r', ls='', marker='.', ax=ax);"
   ],
   "metadata": {
    "collapsed": false,
    "pycharm": {
     "name": "#%%\n"
    }
   }
  },
  {
   "cell_type": "code",
   "execution_count": 13,
   "outputs": [
    {
     "name": "stdout",
     "output_type": "stream",
     "text": [
      "orbipy DOP853 time 11.94\n",
      "fastrk DOP8713M time 2.15\n",
      "speedup x 5.56\n"
     ]
    }
   ],
   "source": [
    "loops = 1000\n",
    "str0 = \"dtr.prop(s0, t0, t1)\"\n",
    "str1 = \"\"\"rk_prop_ev(crtbp, s0, 0, t1, *params.values(),\n",
    "                     values, terminals, directions, counts, accurates,\n",
    "                     call_event, 1e-12, 1e-12, 100, mc)\"\"\"\n",
    "\n",
    "r0 = timeit(str0, number=loops, globals=globals())\n",
    "r1 = timeit(str1, number=loops, globals=globals())\n",
    "\n",
    "print(f\"orbipy DOP853 time {r0:.2f}\")\n",
    "print(f\"fastrk DOP8713M time {r1:.2f}\")\n",
    "print(f\"speedup x {r0/r1:.2f}\")\n"
   ],
   "metadata": {
    "collapsed": false,
    "pycharm": {
     "name": "#%%\n"
    }
   }
  },
  {
   "cell_type": "code",
   "execution_count": 14,
   "outputs": [],
   "source": [
    "@njit\n",
    "def event_0(t, s, *args):\n",
    "    return s[1]\n",
    "\n",
    "@njit\n",
    "def event_1(t, s, *args):\n",
    "    return s[2]\n",
    "\n",
    "@njit\n",
    "def event_2(t, s, *args):\n",
    "    return s[3]\n",
    "\n",
    "@njit\n",
    "def event_3(t, s, *args):\n",
    "    return s[4]\n",
    "\n",
    "@njit\n",
    "def event_4(t, s, *args):\n",
    "    return s[5]\n",
    "\n",
    "# use solve_ivp to calculate events\n",
    "sol = solve_ivp(crtbp, (t0, t1), s0,\n",
    "                method='DOP853', **params,\n",
    "                args=(mc,),\n",
    "                events=[event_0, event_1, event_2, event_3, event_4])"
   ],
   "metadata": {
    "collapsed": false,
    "pycharm": {
     "name": "#%%\n"
    }
   }
  },
  {
   "cell_type": "code",
   "execution_count": 15,
   "outputs": [
    {
     "name": "stdout",
     "output_type": "stream",
     "text": [
      "solve_ivp DOP853 time 3.33\n",
      "fastrk DOP8713M time 0.23\n",
      "speedup x 14.64\n"
     ]
    }
   ],
   "source": [
    "loops = 100\n",
    "str0 = \"\"\"solve_ivp(crtbp, (t0, t1), s0,\n",
    "                method='DOP853', **params,\n",
    "                args=(mc,),\n",
    "                events=[event_0, event_1, event_2, event_3, event_4])\"\"\"\n",
    "str1 = \"\"\"rk_prop_ev(crtbp, s0, 0, t1, *params.values(),\n",
    "                     values, terminals, directions, counts, accurates,\n",
    "                     call_event, 1e-12, 1e-12, 100, mc)\"\"\"\n",
    "\n",
    "r0 = timeit(str0, number=loops, globals=globals())\n",
    "r1 = timeit(str1, number=loops, globals=globals())\n",
    "\n",
    "print(f\"solve_ivp DOP853 time {r0:.2f}\")\n",
    "print(f\"fastrk DOP8713M time {r1:.2f}\")\n",
    "print(f\"speedup x {r0/r1:.2f}\")"
   ],
   "metadata": {
    "collapsed": false,
    "pycharm": {
     "name": "#%%\n"
    }
   }
  },
  {
   "cell_type": "code",
   "execution_count": 16,
   "outputs": [],
   "source": [
    "dfs = []\n",
    "for i, evarr in enumerate(sol.y_events):\n",
    "    df = pd.DataFrame(evarr, columns=['x','y','z','vx','vy','vz'])\n",
    "    df['e'] = i\n",
    "    df['t'] = sol.t_events[i]\n",
    "    dfs.append(df)\n",
    "    \n",
    "evdf2 = pd.concat(dfs, axis=0)"
   ],
   "metadata": {
    "collapsed": false,
    "pycharm": {
     "name": "#%%\n"
    }
   }
  },
  {
   "cell_type": "code",
   "execution_count": 17,
   "outputs": [
    {
     "data": {
      "text/plain": "0    -8.041345e-13\n1    -4.182210e-12\n2     5.034195e-12\n3     5.329515e-12\n4    -4.885536e-11\n5    -6.132028e-11\n6    -7.583267e-12\n7     1.250800e-09\n8    -4.293552e-10\n9    -1.917329e-10\n10   -4.590919e-10\n11   -1.805041e-10\n12    8.527259e-10\n13   -7.454881e-10\n14   -9.032499e-09\n15   -1.817942e-08\n16   -9.089208e-09\n17    3.349717e-07\n18   -1.498620e-07\n19   -6.288217e-08\n20   -1.695434e-07\n21   -6.051879e-08\n22    3.205262e-07\n23   -2.707491e-07\n24   -3.326816e-06\n25   -6.717160e-06\n26   -3.346280e-06\n27    1.234403e-04\n28   -5.524237e-05\n29   -2.317578e-05\nName: t, dtype: float64"
     },
     "execution_count": 17,
     "metadata": {},
     "output_type": "execute_result"
    }
   ],
   "source": [
    "# solve ivp calculated additional events at initial time\n",
    "# let's drop it and sort by time\n",
    "evdf3 = evdf2[evdf2.t > 1e-19].sort_values(by='t').reset_index(drop=True)\n",
    "\n",
    "# check event times\n",
    "evdf1.t - evdf3.t"
   ],
   "metadata": {
    "collapsed": false,
    "pycharm": {
     "name": "#%%\n"
    }
   }
  },
  {
   "cell_type": "code",
   "execution_count": 18,
   "outputs": [
    {
     "data": {
      "text/plain": "array([ 4.40457133e-19, -4.92973175e-19,  1.08420217e-17, -1.55174844e-13,\n        1.08420217e-17, -2.84147326e-13])"
     },
     "execution_count": 18,
     "metadata": {},
     "output_type": "execute_result"
    }
   ],
   "source": [
    "evdf[evdf.e == 0].y.to_numpy() - evdf3[evdf3.e == 0].y.to_numpy()"
   ],
   "metadata": {
    "collapsed": false,
    "pycharm": {
     "name": "#%%\n"
    }
   }
  },
  {
   "cell_type": "code",
   "execution_count": 19,
   "outputs": [
    {
     "data": {
      "text/plain": "<Figure size 1080x360 with 3 Axes>",
      "image/png": "[encoded data removed]"
     },
     "metadata": {
      "needs_background": "light"
     },
     "output_type": "display_data"
    }
   ],
   "source": [
    "ax = pltr.plot_proj(evdf, color='b', ls='', marker='+', ms=10)\n",
    "pltr.plot_proj(evdf3, color='r', ls='', marker='.', ax=ax);"
   ],
   "metadata": {
    "collapsed": false,
    "pycharm": {
     "name": "#%%\n"
    }
   }
  }
 ],
 "metadata": {
  "kernelspec": {
   "display_name": "Python 3",
   "language": "python",
   "name": "python3"
  },
  "language_info": {
   "codemirror_mode": {
    "name": "ipython",
    "version": 2
   },
   "file_extension": ".py",
   "mimetype": "text/x-python",
   "name": "python",
   "nbconvert_exporter": "python",
   "pygments_lexer": "ipython2",
   "version": "2.7.6"
  }
 },
 "nbformat": 4,
 "nbformat_minor": 0
}